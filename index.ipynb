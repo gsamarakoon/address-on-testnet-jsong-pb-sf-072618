{
 "cells": [
  {
   "cell_type": "markdown",
   "metadata": {},
   "source": [
    "# Create an Address on Testnet"
   ]
  },
  {
   "cell_type": "markdown",
   "metadata": {},
   "source": [
    "#### Create a testnet address using your own secret key\n",
    "#### (use your phone number if you can't think of anything)\n",
    "#### Record this secret key!"
   ]
  },
  {
   "cell_type": "code",
   "execution_count": 3,
   "metadata": {},
   "outputs": [
    {
     "name": "stdout",
     "output_type": "stream",
     "text": [
      "S256Point(867fb4acf89ad758109cc064fd412e111efd2b9b9c55dc21b7c478cc300c58b9,f2768fe363ab592daf81ec115a63b033dc4c72cb36b8827f97eb4d0b42fa771e)\n"
     ]
    },
    {
     "data": {
      "text/plain": [
       "'mmFomRUzGiEZC3G51mH7BU5vdKh6ZM6SB2'"
      ]
     },
     "execution_count": 3,
     "metadata": {},
     "output_type": "execute_result"
    }
   ],
   "source": [
    "from ecc import G\n",
    "\n",
    "# use your phone number if you can't think of anything\n",
    "secret =  04\n",
    "\n",
    "# get the public point\n",
    "point = secret*G\n",
    "print(point)\n",
    "point.address(testnet=True)\n",
    "# if you completed the `address` method, just do the .address(testnet=True) method on the public point"
   ]
  },
  {
   "cell_type": "code",
   "execution_count": null,
   "metadata": {},
   "outputs": [],
   "source": []
  }
 ],
 "metadata": {
  "kernelspec": {
   "display_name": "Python 3",
   "language": "python",
   "name": "python3"
  },
  "language_info": {
   "codemirror_mode": {
    "name": "ipython",
    "version": 3
   },
   "file_extension": ".py",
   "mimetype": "text/x-python",
   "name": "python",
   "nbconvert_exporter": "python",
   "pygments_lexer": "ipython3",
   "version": "3.6.6"
  }
 },
 "nbformat": 4,
 "nbformat_minor": 2
}
